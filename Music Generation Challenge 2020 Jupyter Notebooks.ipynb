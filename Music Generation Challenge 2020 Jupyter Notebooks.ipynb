{
 "cells": [
  {
   "cell_type": "markdown",
   "metadata": {},
   "source": [
    "# Irish Folk Jig Generation using an LSTM Reccurent Neural Network"
   ]
  },
  {
   "cell_type": "markdown",
   "metadata": {},
   "source": [
    "1. Importing Libraries"
   ]
  },
  {
   "cell_type": "code",
   "execution_count": null,
   "metadata": {},
   "outputs": [],
   "source": [
    "# Regular Imports\n",
    "from music21 import converter, instrument, note, chord, stream, midi #Music21 Libary for Music Proccesing\n",
    "import glob\n",
    "import time\n",
    "import numpy as np\n",
    "import pandas as pd\n",
    "import matplotlib.pyplot as plt\n",
    "\n",
    "# Tensorflow Imports\n",
    "import tensorflow.keras as keras\n",
    "from tensorflow.keras.models import Sequential\n",
    "from tensorflow.keras.layers import Dense, Activation\n",
    "from tensorflow.keras.layers import LSTM, Dropout\n",
    "from tensorflow.keras.layers import Embedding\n",
    "from tensorflow.keras.optimizers import RMSprop\n",
    "from tensorflow.keras.models import load_model"
   ]
  },
  {
   "cell_type": "markdown",
   "metadata": {},
   "source": [
    "2. Required Functions for Creating the Note-Sequence Database"
   ]
  },
  {
   "cell_type": "code",
   "execution_count": null,
   "metadata": {},
   "outputs": [],
   "source": [
    "MELODY_NOTE_OFF = 128 \n",
    "MELODY_NO_EVENT = 129\n",
    "\n",
    "# Converting a Music21 music sequence object to a Numpy array of integers.\n",
    "# Numbers 0 - 127 represent notes at a specified pitch\n",
    "# 128 Represents \"Note Off and 129 represents \"No Event\"\n",
    "\n",
    "def streamToNoteArray(stream):\n",
    "    # Part one, extract from stream\n",
    "    total_length = np.int(np.round(stream.flat.highestTime / 0.25)) # in 1/16th of a whole note\n",
    "    stream_list = []\n",
    "    for element in stream.flat:\n",
    "        if isinstance(element, note.Note):\n",
    "            stream_list.append([np.round(element.offset / 0.25), np.round(element.quarterLength / 0.25), element.pitch.midi])\n",
    "        elif isinstance(element, chord.Chord):\n",
    "            stream_list.append([np.round(element.offset / 0.25), np.round(element.quarterLength / 0.25), element.sortAscending().pitches[-1].midi])\n",
    "    np_stream_list = np.array(stream_list, dtype=np.int)\n",
    "    df = pd.DataFrame({'pos': np_stream_list.T[0], 'dur': np_stream_list.T[1], 'pitch': np_stream_list.T[2]})\n",
    "    df = df.sort_values(['pos','pitch'], ascending=[True, False]) # sort the dataframe properly\n",
    "    df = df.drop_duplicates(subset=['pos']) # drop duplicate values\n",
    "    # part 2, convert into a sequence of note events\n",
    "    output = np.zeros(total_length+1, dtype=np.int16) + np.int16(MELODY_NO_EVENT)  # set array full of no events by default.\n",
    "    # Fill in the output list\n",
    "    for i in range(total_length):\n",
    "        if not df[df.pos==i].empty:\n",
    "            n = df[df.pos==i].iloc[0] # pick the highest pitch at each semiquaver\n",
    "            output[i] = n.pitch # set note on\n",
    "            output[i+n.dur] = MELODY_NOTE_OFF\n",
    "    return output\n",
    "\n",
    "\n",
    "# Convert the Numpy array containing note sequences into a Pandas Dataframe\n",
    "def noteArrayToDataFrame(note_array):\n",
    "\n",
    "    df = pd.DataFrame({\"code\": note_array})\n",
    "    df['offset'] = df.index\n",
    "    df['duration'] = df.index\n",
    "    df = df[df.code != MELODY_NO_EVENT]\n",
    "    df.duration = df.duration.diff(-1) * -1 * 0.25  # calculate durations and change to quarter note fractions\n",
    "    df = df.fillna(0.25)\n",
    "    return df[['code','duration']]\n",
    "\n",
    "\n",
    "#Convert a numpy array containing a Melody-RNN sequence back into a music21 stream.\n",
    "def noteArrayToStream(note_array):\n",
    "\n",
    "    df = noteArrayToDataFrame(note_array)\n",
    "    melody_stream = stream.Stream()\n",
    "    for index, row in df.iterrows():\n",
    "        if row.code == MELODY_NO_EVENT:\n",
    "            new_note = note.Rest() # To not produce long notes\n",
    "        elif row.code == MELODY_NOTE_OFF:\n",
    "            new_note = note.Rest()\n",
    "        else:\n",
    "            new_note = note.Note(row.code)\n",
    "        new_note.quarterLength = row.duration\n",
    "        melody_stream.append(new_note)\n",
    "    return melody_stream\n",
    "\n"
   ]
  },
  {
   "cell_type": "markdown",
   "metadata": {},
   "source": [
    "3. Define training Variables for Model"
   ]
  },
  {
   "cell_type": "code",
   "execution_count": null,
   "metadata": {},
   "outputs": [],
   "source": [
    "VOCABULARY_SIZE = 130 # 0-127 notes | 128 note_off | 129 no_event\n",
    "SEQ_LEN = 128 # Lenght of each note sequence in database\n",
    "BATCH_SIZE = 256 # Batch Size of Model\n",
    "EPOCHS = 30 # Epochs to train for"
   ]
  },
  {
   "cell_type": "markdown",
   "metadata": {},
   "source": [
    "4. Loading Music Database from NPZ format + Preparing Dataset for training"
   ]
  },
  {
   "cell_type": "code",
   "execution_count": null,
   "metadata": {},
   "outputs": [],
   "source": [
    "\n",
    "with np.load('melody_training_dataset.npz', allow_pickle=True) as data:\n",
    "    train_set = data['train']\n",
    "\n",
    "print(\"Training melodies:\", len(train_set))\n",
    "\n",
    "\n",
    "#Slice a sequence into sequences of specified lenghts\n",
    "def slice_sequence_examples(sequence, num_steps):\n",
    "    xs = []\n",
    "    for i in range(len(sequence) - num_steps - 1):\n",
    "        example = sequence[i: i + num_steps]\n",
    "        xs.append(example)\n",
    "    return xs\n",
    "\n",
    "\n",
    "# Return examles in sequence to singleton format\n",
    "def seq_to_singleton_format(examples):\n",
    "    xs = []\n",
    "    ys = []\n",
    "    for ex in examples:\n",
    "        xs.append(ex[:-1])\n",
    "        ys.append(ex[-1])\n",
    "    return (xs,ys)\n",
    "\n",
    "slices = []\n",
    "for seq in train_set:\n",
    "    slices +=  slice_sequence_examples(seq, SEQ_LEN+1)\n",
    "\n",
    "# Split the sequences into Xs and ys:\n",
    "X, y = seq_to_singleton_format(slices)\n",
    "# Convert into numpy arrays.\n",
    "X = np.array(X)\n",
    "y = np.array(y)\n",
    "\n",
    "print(\"Total Training Corpus:\")\n",
    "print(\"X:\", X.shape)\n",
    "print(\"y:\", y.shape)\n",
    "print()"
   ]
  },
  {
   "cell_type": "markdown",
   "metadata": {},
   "source": [
    "5. Building LSTM Model"
   ]
  },
  {
   "cell_type": "code",
   "execution_count": null,
   "metadata": {},
   "outputs": [],
   "source": [
    "model = Sequential()\n",
    "model.add(Embedding(VOCABULARY_SIZE, 256, input_length=SEQ_LEN))\n",
    "\n",
    "# LSTM part\n",
    "model.add(LSTM(256, return_sequences=True))\n",
    "model.add(LSTM(312, return_sequences=True))\n",
    "model.add(LSTM(412, return_sequences=True))\n",
    "model.add(LSTM(512))\n",
    "# Project back to vocabulary\n",
    "model.add(Dense(VOCABULARY_SIZE, activation='softmax'))\n",
    "model.compile(loss='sparse_categorical_crossentropy', optimizer='adam')\n",
    "model.summary()\n",
    "\n",
    "losses = []\n",
    "\n",
    "\n",
    "# Custom Callback function for saving loss over epochs, and saving copy of model every 10 epochs\n",
    "class CustomSaver(keras.callbacks.Callback):\n",
    "    def on_epoch_end(self, epoch, loss, logs={}):\n",
    "        if epoch % 10 ==0:  # or save after some epoch, each k-th epoch etc.\n",
    "            self.model.save(r'./v5-ckpt/model_{}.h5'.format(epoch))\n",
    "        losses.append(loss)"
   ]
  },
  {
   "cell_type": "markdown",
   "metadata": {},
   "source": [
    "6 . Training"
   ]
  },
  {
   "cell_type": "code",
   "execution_count": null,
   "metadata": {},
   "outputs": [],
   "source": [
    "losses = []\n",
    "\n",
    "class CustomSaver(keras.callbacks.Callback):\n",
    "    def on_epoch_end(self, epoch, loss, logs={}):\n",
    "        if epoch % 10 ==0:  # or save after some epoch, each k-th epoch etc.\n",
    "            self.model.save(r'./v6-ckpt/model_{}.h5'.format(epoch))\n",
    "        losses.append(loss)\n",
    "        \n",
    "hist1 = model.fit(X, y, batch_size=BATCH_SIZE, epochs=200, callbacks = [CustomSaver()])"
   ]
  },
  {
   "cell_type": "markdown",
   "metadata": {},
   "source": [
    "7. Generating Tunes"
   ]
  },
  {
   "cell_type": "code",
   "execution_count": null,
   "metadata": {},
   "outputs": [],
   "source": [
    "model_dec = Sequential()\n",
    "model_dec.add(Embedding(VOCABULARY_SIZE, 256, input_length=1, batch_input_shape=(1,1)))\n",
    "# LSTM part\n",
    "model.add(LSTM(256, return_sequences=True))\n",
    "model.add(LSTM(312, return_sequences=True))\n",
    "model.add(LSTM(412, return_sequences=True))\n",
    "model.add(LSTM(512))\n",
    "\n",
    "# project back to vocabulary\n",
    "model_dec.add(Dense(VOCABULARY_SIZE, activation='softmax'))\n",
    "model_dec.compile(loss='sparse_categorical_crossentropy', optimizer='adam')\n",
    "model_dec.summary()\n",
    "# set weights from training model\n",
    "#model_dec.set_weights(model_train.get_weights())\n",
    "model_dec.load_weights(r\"C:\\Users\\Vikas\\OneDrive\\Artash Python\\A.I\\Special Projects\\Irish Music\\v6-ckpt\\model_180.h5\")\n",
    "\n",
    "\n",
    "for i in tqdm(range(10000)):\n",
    "    model_dec.reset_states() # Start with LSTM state blank\n",
    "    o = sample_model(60, model_dec, length=200, temperature=random.uniform(1.8,2.5))\n",
    "    melody_stream = noteArrayToStream(o)\n",
    "    mf = midi.translate.streamToMidiFile(melody_stream)\n",
    "    mf.open('./gen2/'+str(i)+'.mid', 'wb')\n",
    "    mf.write()\n",
    "    mf.close()"
   ]
  }
 ],
 "metadata": {
  "kernelspec": {
   "display_name": "Python 3",
   "language": "python",
   "name": "python3"
  },
  "language_info": {
   "codemirror_mode": {
    "name": "ipython",
    "version": 3
   },
   "file_extension": ".py",
   "mimetype": "text/x-python",
   "name": "python",
   "nbconvert_exporter": "python",
   "pygments_lexer": "ipython3",
   "version": "3.7.4"
  }
 },
 "nbformat": 4,
 "nbformat_minor": 4
}
